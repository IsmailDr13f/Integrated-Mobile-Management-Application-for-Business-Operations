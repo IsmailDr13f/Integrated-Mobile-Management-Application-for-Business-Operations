{
 "cells": [
  {
   "cell_type": "markdown",
   "id": "a9757e53",
   "metadata": {},
   "source": [
    "<h3>Flask Server: Traitement des BC</h3>"
   ]
  },
  {
   "cell_type": "code",
   "execution_count": 10,
   "id": "0351ff9c",
   "metadata": {},
   "outputs": [],
   "source": [
    "import pytesseract\n",
    "import numpy as np\n",
    "import cv2\n",
    "from pdf2image import convert_from_path\n",
    "from PIL import Image\n",
    "import matplotlib.pyplot as plt\n",
    "import re\n",
    "from tabulate import tabulate\n",
    "from prettytable import PrettyTable\n",
    "import textwrap\n",
    "from flask import Flask, request\n",
    "from werkzeug.utils import secure_filename"
   ]
  },
  {
   "cell_type": "code",
   "execution_count": 97,
   "id": "f1fa8d4f",
   "metadata": {},
   "outputs": [
    {
     "data": {
      "text/plain": [
       "({'Réf': 470,\n",
       "  'Designation': 'CLAPET ANTI RETOUR DN 65 MARC AVK',\n",
       "  'Quantité': 12,\n",
       "  'Unite': 'UNITE',\n",
       "  'PUHT': 523,\n",
       "  'Total en DH': 6276,\n",
       "  'Datedelivraison': '27/06/2022',\n",
       "  'Client': 'Lydec-Casablanca'},)"
      ]
     },
     "execution_count": 97,
     "metadata": {},
     "output_type": "execute_result"
    }
   ],
   "source": [
    "\n",
    "def TRAITEMENT_BCS(path, client):\n",
    "    dictionnaire_SMCV = {\"COMPTEUR D'EAU FROIDE VOLUMETRIQUE CLASSE C DN 015 A TOTALISATEUR ORIENTABLE PRE-EQUIPE D'UN EMETTEUR D'IMPULSION .PN 16.EQUIPE D'UN FILTRE AMONT ET CLAPET AVAL. L= 17CM\" : [\"COMPTEUR AQUADIS + DN 15 TSN\",304,210,\"UNITE\"],\n",
    "                         \"COMPTEUR D'EAU FROIDE À VITESSE CLASSE C DN 060 A TOTALISATEUR ORIENTABLE PRE-EQUIPE D'UN EMETTEUR D'IMPULSION. ISO PN 16 BRIDE DN 60/65\" : [\"COMPTEUR VITESSE CLASSE TYPE FLOSTAR DN 60\",1,288,\"UNITE\"],\n",
    "                         \"COMPTEUR D'EAU FROIDE VOLUMETRIQUE CLASSE C DN 040 A TOTALISATEUR ORIENTABLE PRE-EQUIPE D'UN EMETTEUR D'IMPULSION .PN 16.EQUIPE D'UN FILTRE AMONT. L= 30CM\" : [\"COMPTEUR VOLUMETRIQUE CLASSE C TYPE AQUADIS DN 40\",2,249,\"UNITE\"],\n",
    "                         \"MANCHON DE REPARATION TOUT INOX DN 100 SIMPLE BANDE PN16.LONGUEUR 25 CM.POUR TUYAU DE DIAMETRE EXTERIEUR ENTRE 128- 134.BOULONNERIE INOX QU ACIER ZINGUE\": [\"designation_smcv\",56,241,\"UNITE\"],\n",
    "                         \"VANNE À OPERCULE SERIE COURTE DN200 PN10\":[\"VANNE SERIE COURTE DN200 \",427,351,\"UNITE\"],\n",
    "                         \"VANNE À OPERCULE SERIE COURTE DN300 PN10\":[\"VANNE À OPERCULE SERIE COURTE AVK DN300 PN10\",477,543,\"UNITE\"],\n",
    "                         \"CLAPET ANTI RETOUR DN 65\":[\"CLAPET ANTI RETOUR DN 65 MARC AVK\",470,523,\"UNITE\"],\n",
    "                         \"ROBINET AV/CPT DROIT VERROU 15 SE 32\":[\"ROBINET AVANT COMPTEUR DROIT VERROUILLÉ 15 SE 32\",474,241,\"UNITE\"],\n",
    "                         \"COMPTEUR VOLUMETRIQUE CL/C CALIBRE 20\":[\"COMPTEUR VOLUMETRIQUE CLASSE C CALIBRE 20\",154,491,\"UNITE\"],\n",
    "                         \"COMPTEUR VOLUMETRIQUE CL/C CALIBRE 40\":[\"COMPTEUR VOLUMETRIQUE CLASSE C CALIBRE 40\",744,512,\"UNITE\"],\n",
    "                         \"Compteur de vitesse/turbine DN80\":[\"COMPTEUR VITESSE CLASSE C TYPE FLOSTAR DN 800\",1,451,\"UNITE\"],\n",
    "                         \"Compteur de vitesse/turbine DN150\" : [\"COMPTEUR VITESSE CLASSE C FLOSTAR DN 150\",4,188,\"UNITE\"],\n",
    "                         \"Compteur volumétrique DN 15\" : [\"COMPTEUR AQUADIS + DN 15 TSN\",304,210.5,\"UNITE\"],\n",
    "                         \"Compteur volumétrique DN 30\" : [\"COMPTEUR AQUADIS+ DN 30\",2,452,\"UNITE\",541,\"UNITE\"],\n",
    "                         \"Compteur de vitesse/turbine DN 80 surbridé DN 100\" : [\"designation_SMCV\",3,410,\"UNITE\"],\n",
    "                         'Coude en laiton SR 25 -F 3/4\"': [\"designation_SMCV\",478,110,\"UNITE\"],\n",
    "                         \"Coude égal en laiton SR 50\": [\"designation_SMCV\",4006,174,\"UNITE\"],\n",
    "                         \"Compteurs volumétriques d’eau potable muni de joints de diamètre 15 mm\": [\"designation_SMCV\",4713,211,\"UNITE\"],\n",
    "                         \"BAGUE ANTI FRAUDE DN 15 & 20 COULEUR BLEUE\": [\"designation_SMCV\",9952,404,\"UNITE\"],\n",
    "                         'Coude en laiton SR 32 -F 3/4\"': [\"designation_SMCV\",403,444,\"UNITE\"],\n",
    "                         'Coude en laiton SR 63 - M 2\"': [\"designation_SMCV\",4443,440,\"UNITE\"],\n",
    "                         'Coude en laiton SR 25-F 3/4\"': [\"designation_SMCV\",7703,204,\"UNITE\"],\n",
    "                         \"Coude égal en laiton SR 50\":[\"designation_SMCV\",5103,724,\"UNITE\"],\n",
    "                         \"Compteur d'eau volumétriques DN 15 mm\":[\"designation_SMCV\",1111,453,\"UNITE\"]\n",
    "                        }\n",
    "    \n",
    "    infos_supp_AMENDIS = [\"Société Amendis Route de Tanger Km 3 Tétouan Maroc\",\"05 23 32 61 88\",\"Société Amendis-Tanger\"]\n",
    "    infos_supp_LYDEC   = [\"LydecBureau d'ordre 48 Rue Mohamed Diouri, 20000 Casablanca\",\"05 22 54 91 07\",\"Lydec-Casablanca\"]\n",
    "    infos_supp_REDAL   = [\"6, rue Al Hoceima, BP 161 - 10000 Rabat , Ville, Rabat\",\" 05 37 23 83 83\",\"Redal-Rabat\"]\n",
    "    infos_supp_RADEEJ  = [\"Av. Houmane El Fetouaki, El Jadida, Doukkala-Abda, 24000\",\"05 2332 61 88\",\"Radeej-EL-JADIDA\"]\n",
    "    infos_supp_RAK     = [\" 8, rue Idriss Al Akbar - 14000 Kénitra ; Ville, Kénitra\",\"05 37 37 47 72\",\"RAK-Kénitra\"]\n",
    "    \n",
    "    images = convert_from_path(path)\n",
    "    \n",
    "    #traitement d'image : \n",
    "    image = np.array(images[0])\n",
    "    gray_image = cv2.cvtColor(image, cv2.COLOR_BGR2GRAY)\n",
    "    _, im_bw = cv2.threshold(gray_image, 220, 180, cv2.THRESH_BINARY)\n",
    "    inverted_image = cv2.bitwise_not(im_bw)\n",
    "    kernel = np.ones((1, 1), np.uint8)\n",
    "    dilated_image = cv2.dilate(inverted_image, kernel, iterations=1)\n",
    "    final_image = Image.fromarray(cv2.bitwise_not(dilated_image))\n",
    "    \n",
    "######################################################################################################################    \n",
    "    \n",
    "   \n",
    "    if client == \"AMENDIS\":\n",
    "       \n",
    "        image_copie = np.copy(image)\n",
    "        gray = cv2.cvtColor(image, cv2.COLOR_BGR2GRAY)\n",
    "        blur = cv2.GaussianBlur(gray, (17, 17), 0)\n",
    "        thresh = cv2.threshold(blur, 0, 255, cv2.THRESH_BINARY_INV + cv2.THRESH_OTSU)[1]\n",
    "        kernal = cv2.getStructuringElement(cv2.MORPH_RECT, (37,46))\n",
    "        dilate = cv2.dilate(thresh, kernal, iterations=1)\n",
    "        cnts = cv2.findContours(dilate, cv2.RETR_EXTERNAL, cv2.CHAIN_APPROX_SIMPLE)\n",
    "        cnts = cnts[0] if len(cnts) == 2 else cnts[1]\n",
    "        cnts = sorted(cnts, key=lambda x: cv2.boundingRect(x)[0])\n",
    "        \n",
    "        X,Y,W,H,LEFT,RIGHT,TOP,BOTTOM =0,0,0,0,0,0,0,0\n",
    "        for c in cnts:\n",
    "            x, y, w, h = cv2.boundingRect(c)\n",
    "            if w > 590 and w<700 and h > 130:\n",
    "                cv2.rectangle(image, (x, y), (x + w , y + h), (36, 255, 12), 2)\n",
    "                X,Y,W,H = x, y, w, h\n",
    "                LEFT = x\n",
    "                TOP = y\n",
    "                RIGHT= x+w\n",
    "                BOTTOM = y + h\n",
    "        \n",
    "        L = []        \n",
    "        bbox = final_image\n",
    "        b = bbox.crop((LEFT,TOP,RIGHT,BOTTOM))\n",
    "        \n",
    "        p = bbox.crop((X+W+200, TOP, X+W+500, BOTTOM))\n",
    "        inf = pytesseract.image_to_string(b, lang='fra').replace('\\n', ' ').rstrip('\\x0c').rstrip().lstrip()\n",
    "        inf = ' '.join(inf.split())\n",
    "        if inf and inf[0].isdigit():\n",
    "            inf = inf[1:].lstrip()\n",
    "        info= pytesseract.image_to_string(p, lang='fra').replace(']','').replace('!','').replace('|','').rstrip().lstrip()\n",
    "        L.append(inf)\n",
    "        L += info.split(' ')\n",
    "        \n",
    "        \n",
    "        gray1 = cv2.cvtColor(image_copie, cv2.COLOR_BGR2GRAY)\n",
    "        blur1 = cv2.GaussianBlur(gray1,(17,13),0)\n",
    "        thresh1 = cv2.threshold(blur1,0,255,cv2.THRESH_BINARY_INV+cv2.THRESH_OTSU)[1]\n",
    "        kernal1=cv2.getStructuringElement(cv2.MORPH_RECT,(13,13))\n",
    "        dilate1=cv2.dilate(thresh1,kernal1,iterations=1)\n",
    "        cnts1=cv2.findContours(dilate1,cv2.RETR_EXTERNAL,cv2.CHAIN_APPROX_SIMPLE)\n",
    "        cnts1 = cnts1[0] if len(cnts1)==2 else cnts1[1]\n",
    "        cnts1 = sorted(cnts1,key=lambda x:cv2.boundingRect(x)[0])\n",
    "        L_Cordonnees_Index=[]\n",
    "        l_Seperator_p = []\n",
    "        for c1 in cnts1 : \n",
    "            x1,y1,w1,h1 = cv2.boundingRect(c1)\n",
    "            if w1<25 and x1<100 and x1>50 and pytesseract.image_to_string(Image.fromarray(image_copie).crop((x1+30,y1,15+220,50+y1)), lang='fra').lstrip():\n",
    "                L_Cordonnees_Index.append((x1,y1,w1,h1))\n",
    "                cv2.rectangle(image_copie,(x1,y1),(x1+w1,y1+h1),(36,255,12),2)\n",
    "        l_Seperator_p += [l[1] for l in L_Cordonnees_Index]\n",
    "        separator = [s for s in l_Seperator_p]\n",
    "        separator.append(BOTTOM)\n",
    "        \n",
    "        data=[]\n",
    "        L_infos_extraites=[]\n",
    "        L_img = []\n",
    "        L=[]\n",
    "        QantiteDateLv=[]\n",
    "        for i in range(len(separator)-1):\n",
    "            img = bbox.crop((LEFT,separator[i],RIGHT,separator[i+1]))\n",
    "            Q_DLV = bbox.crop((RIGHT+200,separator[i]-20,RIGHT+990, separator[i+1]))\n",
    "            desig = pytesseract.image_to_string(img, lang='fra').replace('\\n', ' ').rstrip('\\x0c').rstrip().lstrip()\n",
    "            desig = ' '.join(desig.split())\n",
    "            desig = desig[desig.index(next(filter(str.isupper,desig))):]\n",
    "            designation = dictionnaire_SMCV[desig][0]\n",
    "            infos= texte_sans_symboles = re.sub(r'[^a-zA-Z0-9\\s/.]', '',pytesseract.image_to_string(Q_DLV, lang='fra')).rstrip().lstrip()\n",
    "            L=infos.split(' ')\n",
    "            \n",
    "            L_infos_extraites = [dictionnaire_SMCV[desig][1],designation,int(L[0]),dictionnaire_SMCV[desig][-1],int(dictionnaire_SMCV[desig][2]),int(dictionnaire_SMCV[desig][2])*int(L[0]),L[-1],infos_supp_AMENDIS[2]]\n",
    "            data.append(L_infos_extraites)\n",
    "                \n",
    "########################################################################################################################           \n",
    "          \n",
    "    elif client==\"LYDEC\":\n",
    "        \n",
    "        #image = np.array(images[0])\n",
    "        image_copie = np.copy(image)\n",
    "        gray1 = cv2.cvtColor(image_copie, cv2.COLOR_BGR2GRAY)\n",
    "        blur1 = cv2.GaussianBlur(gray1,(17,17),0)\n",
    "        thresh1 = cv2.threshold(blur1,0,255,cv2.THRESH_BINARY_INV+cv2.THRESH_OTSU)[1]\n",
    "        kernal1=cv2.getStructuringElement(cv2.MORPH_RECT,(47,31))\n",
    "        dilate1=cv2.dilate(thresh1,kernal1,iterations=1)\n",
    "        cnts1=cv2.findContours(dilate1,cv2.RETR_EXTERNAL,cv2.CHAIN_APPROX_SIMPLE)\n",
    "        cnts1 = cnts1[0] if len(cnts1)==2 else cnts1[1]\n",
    "        cnts1 = sorted(cnts1,key=lambda x:cv2.boundingRect(x)[0])\n",
    "        L_images=[]\n",
    "        \n",
    "        coordonnees = []\n",
    "        for c in cnts1 : \n",
    "            x,y,w,h = cv2.boundingRect(c)\n",
    "            if (h<80 and w>500) or (h>150 and w>1000):\n",
    "                cv2.rectangle(image_copie,(x,y),(x+w,y+h),(36,255,12),2)\n",
    "                img = final_image.crop((x,y,x+w,y+h))\n",
    "                coordonnees.append((x,y,x+w,y+h))\n",
    "                L_images.append(img)\n",
    "        d_LV = pytesseract.image_to_string(L_images[-1], lang='fra').replace('\\n',' ').rstrip().lstrip()\n",
    "        index = d_LV.find(':')\n",
    "        #date de livraison\n",
    "        date_livraison=d_LV[index+1:].replace('.','/').rstrip().lstrip()\n",
    "    \n",
    "        image_copie = np.copy(image)\n",
    "        gray = cv2.cvtColor(image, cv2.COLOR_BGR2GRAY)\n",
    "        blur = cv2.GaussianBlur(gray, (17, 17), 0)\n",
    "        thresh = cv2.threshold(blur, 0, 255, cv2.THRESH_BINARY_INV + cv2.THRESH_OTSU)[1]\n",
    "        kernal = cv2.getStructuringElement(cv2.MORPH_RECT, (9,13))\n",
    "        dilate = cv2.dilate(thresh, kernal, iterations=1)\n",
    "        cnts = cv2.findContours(dilate, cv2.RETR_EXTERNAL, cv2.CHAIN_APPROX_SIMPLE)\n",
    "        cnts = cnts[0] if len(cnts) == 2 else cnts[1]\n",
    "        cnts = sorted(cnts, key=lambda x: cv2.boundingRect(x)[0])\n",
    "        \n",
    "        L=[]\n",
    "        for c in cnts : \n",
    "            x,y,w,h = cv2.boundingRect(c)\n",
    "            if h<40 and w<110 and w>90 and x<60:\n",
    "                cv2.rectangle(image,(x,y),(x+w,y+h),(36,255,12),2)\n",
    "                L.append((x,y,w,h))\n",
    "        BOTTOM = coordonnees[0][1] + coordonnees[0][3]      \n",
    "        l_Seperator_p = []\n",
    "        l_Seperator_p += [l[1] for l in L]\n",
    "        l_Seperator_p.append(BOTTOM)\n",
    "        l_Seperator_p=sorted(l_Seperator_p)\n",
    "        \n",
    "        imagettes=[]\n",
    "     \n",
    "        Qte = []\n",
    "        for s in range(len(l_Seperator_p)-1):\n",
    "            L1=[]\n",
    "            img = final_image.crop((coordonnees[0][0],l_Seperator_p[s],coordonnees[0][2]+40,l_Seperator_p[s+1]))\n",
    "            imagettes.append(img)\n",
    "            texte_T = pytesseract.image_to_data(img, output_type=pytesseract.Output.DICT)\n",
    "            # Parcourir les blocs de texte\n",
    "            nombre_de_blocs = len(texte_T['text'])\n",
    "            lignes_extraites = {}\n",
    "            for i in range(nombre_de_blocs):\n",
    "                # Récupérer le numéro de ligne du bloc\n",
    "                numero_ligne = int(texte_T['line_num'][i])\n",
    "                # Récupérer le texte du bloc\n",
    "                texte_bloc = texte_T['text'][i]\n",
    "                # Ignorer les lignes vides\n",
    "                if not texte_bloc.strip():\n",
    "                    continue\n",
    "                # Ajouter le texte du bloc à la ligne correspondante dans le dictionnaire des lignes extraites\n",
    "                if numero_ligne in lignes_extraites:\n",
    "                    lignes_extraites[numero_ligne] += ' ' + texte_bloc\n",
    "                else:\n",
    "                    lignes_extraites[numero_ligne] = texte_bloc\n",
    "            \n",
    "            for numero_ligne, texte_ligne in lignes_extraites.items():\n",
    "                txt= texte_ligne\n",
    "                L1.append(txt)\n",
    "            ligne2 = L1[1]\n",
    "            index_p = ligne2.index('P')\n",
    "            Q = int(ligne2[:index_p-1].replace('.',''))\n",
    "            Qte.append(Q)\n",
    "\n",
    "        \n",
    "    \n",
    "        data=[]\n",
    "        desig_produit=[]\n",
    "        puht_produit=[]\n",
    "        total_HT = []\n",
    "        unite_produit=[]\n",
    "        ref_produit=[]\n",
    "        for t in L :\n",
    "            inf = []\n",
    "            X,Y,W,H = t\n",
    "            #image qui contienne la designation\n",
    "            img_designation = final_image.crop((X,Y,1500,Y+H)).resize((1500,50))\n",
    "            desig = pytesseract.image_to_string(img_designation, lang='fra').rstrip().lstrip()\n",
    "            indice = next((i for i, c in enumerate(desig) if c.isupper()), -1)\n",
    "            #designation_client \n",
    "            designation_client = desig[indice:]\n",
    "            #designation_smcv\n",
    "            infos = dictionnaire_SMCV[designation_client]\n",
    "            #réference produit\n",
    "            ref = infos[1]\n",
    "            #puht\n",
    "            puht = infos[2]\n",
    "            #unite\n",
    "            unite = infos[3]\n",
    "            \n",
    "            ref_produit.append(ref)\n",
    "            desig_produit.append(infos[0])\n",
    "            puht_produit.append(puht)\n",
    "            unite_produit.append(unite)\n",
    "            \n",
    "        d=[]\n",
    "        for i in range(len(ref_produit)):\n",
    "            d=[ref_produit[i],desig_produit[i],Qte[i],unite_produit[i],puht_produit[i],Qte[i]*puht_produit[i],date_livraison,infos_supp_LYDEC[2]]\n",
    "            data.append(d)\n",
    "################################################################################################################################\n",
    "    elif client == \"REDAL\" :\n",
    "        \n",
    "        ############################################################\n",
    "        gray_image = cv2.cvtColor(image, cv2.COLOR_BGR2GRAY)\n",
    "        _, im_bw = cv2.threshold(gray_image, 230, 180, cv2.THRESH_BINARY)\n",
    "        inverted_image = cv2.bitwise_not(im_bw)\n",
    "        kernel1 = np.ones((1, 1), np.uint8)\n",
    "        dilated_image = cv2.dilate(inverted_image, kernel1, iterations=1)\n",
    "        final_image = Image.fromarray(cv2.bitwise_not(dilated_image))\n",
    "        ################################################################\n",
    "        gray = cv2.cvtColor(image, cv2.COLOR_BGR2GRAY)\n",
    "        blur = cv2.GaussianBlur(gray,(47,47),0)\n",
    "        thresh = cv2.threshold(blur,0,255,cv2.THRESH_BINARY_INV+cv2.THRESH_OTSU)[1]\n",
    "        kernal=cv2.getStructuringElement(cv2.MORPH_RECT,(46,7))\n",
    "        dilate=cv2.dilate(thresh,kernal,iterations=1)\n",
    "        cnts=cv2.findContours(dilate,cv2.RETR_EXTERNAL,cv2.CHAIN_APPROX_SIMPLE)\n",
    "        cnts = cnts[0] if len(cnts)==2 else cnts[1]\n",
    "        cnts = sorted(cnts,key=lambda x:cv2.boundingRect(x)[1])\n",
    "        l1=[]\n",
    "        L_quantites=[]\n",
    "        for c in cnts:   \n",
    "            x, y, w, h = cv2.boundingRect(c)\n",
    "            if h<50 and w < 130 and x<1310 and  x > 1250 :\n",
    "                q = pytesseract.image_to_string(final_image.crop((x, y, x + w, y + h)).resize((140,60)), lang='fra').replace('\\n', '').lstrip().rstrip()\n",
    "                L_quantites.append(q)\n",
    "        L_quantites = [0 if q=='' else int(q.replace(' ', '')) for q in L_quantites]\n",
    "        \n",
    "\n",
    "\n",
    "\n",
    "    ##########################################################################\"\"\n",
    "        gray1 = cv2.cvtColor(image, cv2.COLOR_BGR2GRAY)\n",
    "        blur1 = cv2.GaussianBlur(gray1,(19,19),0)\n",
    "        thresh1 = cv2.threshold(blur1,0,255,cv2.THRESH_BINARY_INV+cv2.THRESH_OTSU)[1]\n",
    "        kernal1=cv2.getStructuringElement(cv2.MORPH_RECT,(47,7))\n",
    "        dilate1=cv2.dilate(thresh1,kernal1,iterations=1)\n",
    "        cnts1=cv2.findContours(dilate1,cv2.RETR_EXTERNAL,cv2.CHAIN_APPROX_SIMPLE)\n",
    "        cnts1 = cnts1[0] if len(cnts1)==2 else cnts1[1]\n",
    "        cnts1 = sorted(cnts1,key=lambda x:cv2.boundingRect(x)[0])\n",
    "\n",
    "\n",
    "        #designations & qiantités produits\n",
    "        X1,Y1,W1,H1 = 0,0,0,0\n",
    "        for c1 in cnts1 : \n",
    "            x1,y1,w1,h1 = cv2.boundingRect(c1)\n",
    "            if w1>800 and h1>120 and y1<1200:\n",
    "                cv2.rectangle(image,(x1,y1),(x1+w1,y1+h1),(36,255,12),2)\n",
    "                X1,Y1,W1,H1 = x1,y1,w1,h1\n",
    "\n",
    "        image_designations = final_image.crop((X1+260,Y1+80,X1+W1-200,Y1+H1-20))\n",
    "        image_designations = image_designations.resize((image_designations.size[0]+60,image_designations.size[1]+32))\n",
    "        image_quantites = final_image.crop((X1+W1-190,Y1+80,X1+W1-25,Y1+H1-10))\n",
    "        designations  = pytesseract.image_to_string(image_designations, lang='fra').replace('\\n',' ').replace('|','').lstrip().rstrip()\n",
    "\n",
    "        mots_cles = [\"Compteur\", \"Coude\", \"BAGUE\"]\n",
    "        L_designations = []\n",
    "\n",
    "        debut = 0\n",
    "        i = 0\n",
    "        while i < len(designations):\n",
    "            if designations[i:].startswith(tuple(mots_cles)):\n",
    "                j = i + 1\n",
    "                while j < len(designations) and not designations[j:].startswith(tuple(mots_cles)):\n",
    "                    j += 1\n",
    "                desig = designations[i:j].strip()\n",
    "                L_designations.append(desig)\n",
    "                i = j\n",
    "            else:\n",
    "                i += 1\n",
    "        \n",
    "        data = []\n",
    "        for i in range(len(L_designations)):\n",
    "            infos = dictionnaire_SMCV[L_designations[i]]\n",
    "            l= [infos[1],infos[0],L_quantites[i],infos[3],infos[2],infos[2]*int(L_quantites[i]),\"\",infos_supp_REDAL[2]]\n",
    "            data.append(l)\n",
    "        \n",
    "################################################################################################################################\n",
    "\n",
    "               \n",
    "    elif client == \"RADEEJ\":\n",
    "        gray = cv2.cvtColor(image, cv2.COLOR_BGR2GRAY)\n",
    "        blur = cv2.GaussianBlur(gray,(19,19),0)\n",
    "        thresh = cv2.threshold(blur,0,255,cv2.THRESH_BINARY_INV+cv2.THRESH_OTSU)[1]\n",
    "        kernal=cv2.getStructuringElement(cv2.MORPH_RECT,(37,13))\n",
    "        dilate=cv2.dilate(thresh,kernal,iterations=1)\n",
    "        cnts=cv2.findContours(dilate,cv2.RETR_EXTERNAL,cv2.CHAIN_APPROX_SIMPLE)\n",
    "        cnts = cnts[0] if len(cnts)==2 else cnts[1]\n",
    "        cnts = sorted(cnts,key=lambda x:cv2.boundingRect(x)[0])\n",
    "        \n",
    "        for c in cnts : \n",
    "            x,y,w,h = cv2.boundingRect(c)\n",
    "            if w>800 and y>1200 and (y+h)<1500:\n",
    "                cv2.rectangle(image,(x,y),(x+w,y+h),(36,255,12),2)\n",
    "                left,top,right,bottom = x,y,(x+w),y+h\n",
    "                \n",
    "        img = final_image.crop((left,top,right,bottom ))\n",
    "        infos = pytesseract.image_to_string(img, lang='fra').replace('\\n',' ').lstrip().rstrip()\n",
    "        index_premier_entier = next((i for i, c in enumerate(infos) if c.isdigit()), None)\n",
    "        if index_premier_entier is not None:\n",
    "            infos = infos[index_premier_entier:]\n",
    "        # Supprimer le point à la fin de la phrase\n",
    "        if infos.endswith('.'):\n",
    "            infos = infos[:-1]\n",
    "\n",
    "        # Extraire le nombre avant la première lettre \"quantité\"\n",
    "        match_nombre = re.match(r\"([\\d\\s]+)\\b\", infos)\n",
    "        quantite = match_nombre.group(1).replace(\" \", \"\") if match_nombre else \"\"\n",
    "\n",
    "        # Extraire le texte après la première lettre majuscule \"designation client\"\n",
    "        match_texte = re.search(r\"[A-Z].*\", infos)\n",
    "        designation = match_texte.group() if match_texte else \"\"\n",
    "        designation = designation.split('.')[0].strip()\n",
    "        Qte_Desig = [int(quantite) if quantite else 0, designation.strip()]\n",
    "        \n",
    "        #informations\n",
    "        informations = dictionnaire_SMCV[Qte_Desig[1]]\n",
    "        designation_smcv = informations[0]\n",
    "        ref = informations[1]\n",
    "        unite = informations[3]\n",
    "        puht = informations[2]\n",
    "        totalHT = puht*int(quantite)\n",
    "        date_livraison = \"\"\n",
    "        \n",
    "        data = [[ref,designation_smcv,quantite,unite,puht,totalHT,date_livraison,infos_supp_RADEEJ[2]]]\n",
    "########################################################################################################################        \n",
    "    elif client==\"RAK\":\n",
    "        gray = cv2.cvtColor(image, cv2.COLOR_BGR2GRAY)\n",
    "        blur = cv2.GaussianBlur(gray,(37,37),0)\n",
    "        thresh = cv2.threshold(blur,0,255,cv2.THRESH_BINARY_INV+cv2.THRESH_OTSU)[1]\n",
    "        kernal=cv2.getStructuringElement(cv2.MORPH_RECT,(43,5))\n",
    "        dilate=cv2.dilate(thresh,kernal,iterations=1)\n",
    "        cnts=cv2.findContours(dilate,cv2.RETR_EXTERNAL,cv2.CHAIN_APPROX_SIMPLE)\n",
    "        cnts = cnts[0] if len(cnts)==2 else cnts[1]\n",
    "        cnts = sorted(cnts,key=lambda x:cv2.boundingRect(x)[0])\n",
    "        \n",
    "        for c in cnts :     \n",
    "            x,y,w,h = cv2.boundingRect(c)\n",
    "            if w>700 and h>700:\n",
    "                cv2.rectangle(image,(x,y),(x+w,y+h),(36,255,12),2)\n",
    "                left,top,right,bottom = x,y,(x+w),(y+h)    \n",
    "        \n",
    "        im = final_image.crop((left,top,right,bottom)).resize((1500, 1500))\n",
    "        texte = pytesseract.image_to_string(im, lang='fra').replace('\\n', ' ')\n",
    "        \n",
    "        #Extraire le nombre après \"livraison de\"\n",
    "        quantite = re.search(r\"livraison de (\\d+)\", texte).group(1)\n",
    "        \n",
    "        # Extraire la date au format \"d/d/d\"\n",
    "        date_livraison = re.search(r\"pour le (\\d{1,2}/\\d{1,2}/\\d{4})\", texte).group(1)\n",
    "        # Afficher le résultat\n",
    "    \n",
    "        #informations\n",
    "        designation_smcv = \"designation_smcv\"\n",
    "        ref = 10000\n",
    "        unite = \"UNITE\"\n",
    "        puht = 5000\n",
    "        totalHT = puht*int(quantite)\n",
    "        data = [[ref,designation_smcv,int(quantite),unite,puht,totalHT,date_livraison,infos_supp_RAK[2]]]        \n",
    "            \n",
    "    \n",
    "    #Affichage\n",
    "    \n",
    "    \n",
    "    # En-têtes des colonnes\n",
    "    headers = [\"Réf\", \"Designation\", \"Quantité\", \"Unite\", \"PUHT\", \"Total en DH\", \"Datedelivraison\",\"Client\"]\n",
    "    # Création de la table\n",
    "    table = PrettyTable(headers)\n",
    "    # Ajustement de la largeur des colonnes\n",
    "    table.align = 'l'\n",
    "    # Insertion des données dans la table\n",
    "    for row in data:\n",
    "        wrapped_row = [textwrap.fill(str(item), width=20) for item in row]\n",
    "        table.add_row(wrapped_row)\n",
    "    \n",
    "    data_list=[]\n",
    "    for row in data:\n",
    "        data_list.append(dict(zip(headers,row)))\n",
    "    data_list\n",
    "    #return table\n",
    "    return tuple(data_list)\n",
    "    #return data\n",
    "t1=TRAITEMENT_BCS(\"LYDEC1.pdf\",\"LYDEC\")\n",
    "t1"
   ]
  },
  {
   "cell_type": "code",
   "execution_count": 90,
   "id": "ceed2a2d",
   "metadata": {},
   "outputs": [
    {
     "data": {
      "text/plain": [
       "({'Réf': 477,\n",
       "  'Désignation': 'VANNE À OPERCULE SERIE COURTE AVK DN300 PN10',\n",
       "  'Quantité': 18,\n",
       "  'Unite': 'UNITE',\n",
       "  'PUHT': 543,\n",
       "  'Total en DH': 9774,\n",
       "  'Date de livraison': '13/04/2023',\n",
       "  'Client': 'Lydec-Casablanca'},\n",
       " {'Réf': 427,\n",
       "  'Désignation': 'VANNE SERIE COURTE DN200 ',\n",
       "  'Quantité': 2,\n",
       "  'Unite': 'UNITE',\n",
       "  'PUHT': 351,\n",
       "  'Total en DH': 702,\n",
       "  'Date de livraison': '13/04/2023',\n",
       "  'Client': 'Lydec-Casablanca'})"
      ]
     },
     "execution_count": 90,
     "metadata": {},
     "output_type": "execute_result"
    }
   ],
   "source": [
    "headers = [\"Réf\", \"Désignation\", \"Quantité\", \"Unite\", \"PUHT\", \"Total en DH\", \"Date de livraison\",\"Client\"]\n",
    "data = [[477, 'VANNE À OPERCULE SERIE COURTE AVK DN300 PN10', 18, 'UNITE', 543, 9774, '13/04/2023', 'Lydec-Casablanca'], [427, 'VANNE SERIE COURTE DN200 ', 2, 'UNITE', 351, 702, '13/04/2023', 'Lydec-Casablanca']]\n",
    "data_list=[]\n",
    "for row in data:\n",
    "    data_list.append(dict(zip(headers,row)))\n",
    "tuple(data_list)"
   ]
  },
  {
   "cell_type": "code",
   "execution_count": 98,
   "id": "f6ed7131",
   "metadata": {},
   "outputs": [
    {
     "name": "stdout",
     "output_type": "stream",
     "text": [
      " * Serving Flask app \"__main__\" (lazy loading)\n",
      " * Environment: production\n",
      "\u001b[31m   WARNING: This is a development server. Do not use it in a production deployment.\u001b[0m\n",
      "\u001b[2m   Use a production WSGI server instead.\u001b[0m\n",
      " * Debug mode: off\n"
     ]
    },
    {
     "name": "stderr",
     "output_type": "stream",
     "text": [
      " * Running on http://192.168.11.108:5000/ (Press CTRL+C to quit)\n"
     ]
    },
    {
     "name": "stdout",
     "output_type": "stream",
     "text": [
      "ImmutableMultiDict([('file', <FileStorage: 'RAK2.pdf' ('application/pdf')>)])\n"
     ]
    },
    {
     "name": "stderr",
     "output_type": "stream",
     "text": [
      "192.168.11.106 - - [14/Jun/2023 11:22:23] \"POST /upload HTTP/1.1\" 200 -\n"
     ]
    },
    {
     "name": "stdout",
     "output_type": "stream",
     "text": [
      "ImmutableMultiDict([('file', <FileStorage: 'RAK2.pdf' ('application/pdf')>)])\n"
     ]
    },
    {
     "name": "stderr",
     "output_type": "stream",
     "text": [
      "192.168.11.106 - - [14/Jun/2023 11:23:06] \"POST /upload HTTP/1.1\" 200 -\n"
     ]
    },
    {
     "name": "stdout",
     "output_type": "stream",
     "text": [
      "ImmutableMultiDict([('file', <FileStorage: 'RAK2.pdf' ('application/pdf')>)])\n"
     ]
    },
    {
     "name": "stderr",
     "output_type": "stream",
     "text": [
      "192.168.11.106 - - [14/Jun/2023 11:25:28] \"POST /upload HTTP/1.1\" 200 -\n"
     ]
    },
    {
     "name": "stdout",
     "output_type": "stream",
     "text": [
      "ImmutableMultiDict([('file', <FileStorage: 'RAK2.pdf' ('application/pdf')>)])\n"
     ]
    },
    {
     "name": "stderr",
     "output_type": "stream",
     "text": [
      "192.168.11.106 - - [14/Jun/2023 11:26:21] \"POST /upload HTTP/1.1\" 200 -\n"
     ]
    },
    {
     "name": "stdout",
     "output_type": "stream",
     "text": [
      "ImmutableMultiDict([('file', <FileStorage: 'RAK2.pdf' ('application/pdf')>)])\n"
     ]
    },
    {
     "name": "stderr",
     "output_type": "stream",
     "text": [
      "192.168.11.106 - - [14/Jun/2023 11:27:03] \"POST /upload HTTP/1.1\" 200 -\n"
     ]
    },
    {
     "name": "stdout",
     "output_type": "stream",
     "text": [
      "ImmutableMultiDict([('file', <FileStorage: 'RAK2.pdf' ('application/pdf')>)])\n"
     ]
    },
    {
     "name": "stderr",
     "output_type": "stream",
     "text": [
      "192.168.11.106 - - [14/Jun/2023 11:28:06] \"POST /upload HTTP/1.1\" 200 -\n"
     ]
    },
    {
     "name": "stdout",
     "output_type": "stream",
     "text": [
      "ImmutableMultiDict([('file', <FileStorage: 'RAK2.pdf' ('application/pdf')>)])\n"
     ]
    },
    {
     "name": "stderr",
     "output_type": "stream",
     "text": [
      "192.168.11.106 - - [14/Jun/2023 11:28:48] \"POST /upload HTTP/1.1\" 200 -\n"
     ]
    },
    {
     "name": "stdout",
     "output_type": "stream",
     "text": [
      "ImmutableMultiDict([('file', <FileStorage: 'RAK2.pdf' ('application/pdf')>)])\n"
     ]
    },
    {
     "name": "stderr",
     "output_type": "stream",
     "text": [
      "192.168.11.106 - - [14/Jun/2023 11:29:13] \"POST /upload HTTP/1.1\" 200 -\n"
     ]
    },
    {
     "name": "stdout",
     "output_type": "stream",
     "text": [
      "ImmutableMultiDict([('file', <FileStorage: 'RAK2.pdf' ('application/pdf')>)])\n"
     ]
    },
    {
     "name": "stderr",
     "output_type": "stream",
     "text": [
      "192.168.11.106 - - [14/Jun/2023 11:29:36] \"POST /upload HTTP/1.1\" 200 -\n"
     ]
    },
    {
     "name": "stdout",
     "output_type": "stream",
     "text": [
      "ImmutableMultiDict([('file', <FileStorage: 'RAK2.pdf' ('application/pdf')>)])\n"
     ]
    },
    {
     "name": "stderr",
     "output_type": "stream",
     "text": [
      "192.168.11.106 - - [14/Jun/2023 11:30:02] \"POST /upload HTTP/1.1\" 200 -\n"
     ]
    },
    {
     "name": "stdout",
     "output_type": "stream",
     "text": [
      "ImmutableMultiDict([('file', <FileStorage: 'RAK2.pdf' ('application/pdf')>)])\n"
     ]
    },
    {
     "name": "stderr",
     "output_type": "stream",
     "text": [
      "192.168.11.106 - - [14/Jun/2023 11:30:25] \"POST /upload HTTP/1.1\" 200 -\n"
     ]
    },
    {
     "name": "stdout",
     "output_type": "stream",
     "text": [
      "ImmutableMultiDict([('file', <FileStorage: 'RAK2.pdf' ('application/pdf')>)])\n"
     ]
    },
    {
     "name": "stderr",
     "output_type": "stream",
     "text": [
      "192.168.11.106 - - [14/Jun/2023 11:33:19] \"POST /upload HTTP/1.1\" 200 -\n"
     ]
    },
    {
     "name": "stdout",
     "output_type": "stream",
     "text": [
      "ImmutableMultiDict([('file', <FileStorage: 'LYDEC2.pdf' ('application/pdf')>)])\n"
     ]
    },
    {
     "name": "stderr",
     "output_type": "stream",
     "text": [
      "[2023-06-14 11:36:52,716] ERROR in app: Exception on /upload [POST]\n",
      "Traceback (most recent call last):\n",
      "  File \"C:\\Users\\pc\\anaconda3\\lib\\site-packages\\flask\\app.py\", line 2447, in wsgi_app\n",
      "    response = self.full_dispatch_request()\n",
      "  File \"C:\\Users\\pc\\anaconda3\\lib\\site-packages\\flask\\app.py\", line 1952, in full_dispatch_request\n",
      "    rv = self.handle_user_exception(e)\n",
      "  File \"C:\\Users\\pc\\anaconda3\\lib\\site-packages\\flask\\app.py\", line 1821, in handle_user_exception\n",
      "    reraise(exc_type, exc_value, tb)\n",
      "  File \"C:\\Users\\pc\\anaconda3\\lib\\site-packages\\flask\\_compat.py\", line 39, in reraise\n",
      "    raise value\n",
      "  File \"C:\\Users\\pc\\anaconda3\\lib\\site-packages\\flask\\app.py\", line 1950, in full_dispatch_request\n",
      "    rv = self.dispatch_request()\n",
      "  File \"C:\\Users\\pc\\anaconda3\\lib\\site-packages\\flask\\app.py\", line 1936, in dispatch_request\n",
      "    return self.view_functions[rule.endpoint](**req.view_args)\n",
      "  File \"C:\\Program Files\\KMSpico\\temp\\ipykernel_21132\\4025010353.py\", line 25, in upload_file\n",
      "    rep_data=TRAITEMENT_BCS(filename,selected_value)\n",
      "  File \"C:\\Program Files\\KMSpico\\temp\\ipykernel_21132\\2866201193.py\", line 383, in TRAITEMENT_BCS\n",
      "    im = final_image.crop((left,top,right,bottom)).resize((1500, 1500))\n",
      "UnboundLocalError: local variable 'left' referenced before assignment\n",
      "192.168.11.106 - - [14/Jun/2023 11:36:52] \"POST /upload HTTP/1.1\" 500 -\n"
     ]
    },
    {
     "name": "stdout",
     "output_type": "stream",
     "text": [
      "ImmutableMultiDict([('file', <FileStorage: 'LYDEC2.pdf' ('application/pdf')>)])\n"
     ]
    },
    {
     "name": "stderr",
     "output_type": "stream",
     "text": [
      "192.168.11.106 - - [14/Jun/2023 11:37:21] \"POST /upload HTTP/1.1\" 200 -\n"
     ]
    },
    {
     "name": "stdout",
     "output_type": "stream",
     "text": [
      "ImmutableMultiDict([('file', <FileStorage: 'LYDEC2.pdf' ('application/pdf')>)])\n"
     ]
    },
    {
     "name": "stderr",
     "output_type": "stream",
     "text": [
      "192.168.11.106 - - [14/Jun/2023 11:56:03] \"POST /upload HTTP/1.1\" 200 -\n"
     ]
    },
    {
     "name": "stdout",
     "output_type": "stream",
     "text": [
      "ImmutableMultiDict([('file', <FileStorage: 'RAK1.pdf' ('application/pdf')>)])\n"
     ]
    },
    {
     "name": "stderr",
     "output_type": "stream",
     "text": [
      "192.168.11.106 - - [14/Jun/2023 11:58:40] \"POST /upload HTTP/1.1\" 200 -\n"
     ]
    },
    {
     "name": "stdout",
     "output_type": "stream",
     "text": [
      "ImmutableMultiDict([('file', <FileStorage: 'RAK1.pdf' ('application/pdf')>)])\n"
     ]
    },
    {
     "name": "stderr",
     "output_type": "stream",
     "text": [
      "192.168.11.106 - - [14/Jun/2023 12:00:55] \"POST /upload HTTP/1.1\" 200 -\n"
     ]
    },
    {
     "name": "stdout",
     "output_type": "stream",
     "text": [
      "ImmutableMultiDict([('file', <FileStorage: 'RAK1.pdf' ('application/pdf')>)])\n"
     ]
    },
    {
     "name": "stderr",
     "output_type": "stream",
     "text": [
      "192.168.11.106 - - [14/Jun/2023 12:01:57] \"POST /upload HTTP/1.1\" 200 -\n"
     ]
    },
    {
     "name": "stdout",
     "output_type": "stream",
     "text": [
      "ImmutableMultiDict([('file', <FileStorage: 'RAK1.pdf' ('application/pdf')>)])\n"
     ]
    },
    {
     "name": "stderr",
     "output_type": "stream",
     "text": [
      "192.168.11.106 - - [14/Jun/2023 12:02:41] \"POST /upload HTTP/1.1\" 200 -\n"
     ]
    },
    {
     "name": "stdout",
     "output_type": "stream",
     "text": [
      "ImmutableMultiDict([('file', <FileStorage: 'RAK1.pdf' ('application/pdf')>)])\n"
     ]
    },
    {
     "name": "stderr",
     "output_type": "stream",
     "text": [
      "192.168.11.106 - - [14/Jun/2023 12:03:43] \"POST /upload HTTP/1.1\" 200 -\n"
     ]
    },
    {
     "name": "stdout",
     "output_type": "stream",
     "text": [
      "ImmutableMultiDict([('file', <FileStorage: 'RAK1.pdf' ('application/pdf')>)])\n"
     ]
    },
    {
     "name": "stderr",
     "output_type": "stream",
     "text": [
      "192.168.11.106 - - [14/Jun/2023 12:06:44] \"POST /upload HTTP/1.1\" 200 -\n"
     ]
    },
    {
     "name": "stdout",
     "output_type": "stream",
     "text": [
      "ImmutableMultiDict([('file', <FileStorage: 'RAK1.pdf' ('application/pdf')>)])\n"
     ]
    },
    {
     "name": "stderr",
     "output_type": "stream",
     "text": [
      "192.168.11.106 - - [14/Jun/2023 12:07:26] \"POST /upload HTTP/1.1\" 200 -\n"
     ]
    },
    {
     "name": "stdout",
     "output_type": "stream",
     "text": [
      "ImmutableMultiDict([('file', <FileStorage: 'RAK1.pdf' ('application/pdf')>)])\n"
     ]
    },
    {
     "name": "stderr",
     "output_type": "stream",
     "text": [
      "192.168.11.106 - - [14/Jun/2023 12:08:38] \"POST /upload HTTP/1.1\" 200 -\n"
     ]
    },
    {
     "name": "stdout",
     "output_type": "stream",
     "text": [
      "ImmutableMultiDict([('file', <FileStorage: 'RAK1.pdf' ('application/pdf')>)])\n"
     ]
    },
    {
     "name": "stderr",
     "output_type": "stream",
     "text": [
      "192.168.11.106 - - [14/Jun/2023 12:09:10] \"POST /upload HTTP/1.1\" 200 -\n"
     ]
    },
    {
     "name": "stdout",
     "output_type": "stream",
     "text": [
      "ImmutableMultiDict([('file', <FileStorage: 'RAK1.pdf' ('application/pdf')>)])\n"
     ]
    },
    {
     "name": "stderr",
     "output_type": "stream",
     "text": [
      "192.168.11.106 - - [14/Jun/2023 12:11:27] \"POST /upload HTTP/1.1\" 200 -\n"
     ]
    },
    {
     "name": "stdout",
     "output_type": "stream",
     "text": [
      "ImmutableMultiDict([('file', <FileStorage: 'RAK1.pdf' ('application/pdf')>)])\n"
     ]
    },
    {
     "name": "stderr",
     "output_type": "stream",
     "text": [
      "192.168.11.106 - - [14/Jun/2023 12:11:48] \"POST /upload HTTP/1.1\" 200 -\n"
     ]
    },
    {
     "name": "stdout",
     "output_type": "stream",
     "text": [
      "ImmutableMultiDict([('file', <FileStorage: 'RAK1.pdf' ('application/pdf')>)])\n"
     ]
    },
    {
     "name": "stderr",
     "output_type": "stream",
     "text": [
      "192.168.11.106 - - [14/Jun/2023 12:20:17] \"POST /upload HTTP/1.1\" 200 -\n"
     ]
    },
    {
     "name": "stdout",
     "output_type": "stream",
     "text": [
      "ImmutableMultiDict([('file', <FileStorage: 'RAK1.pdf' ('application/pdf')>)])\n"
     ]
    },
    {
     "name": "stderr",
     "output_type": "stream",
     "text": [
      "192.168.11.106 - - [14/Jun/2023 12:21:03] \"POST /upload HTTP/1.1\" 200 -\n"
     ]
    },
    {
     "name": "stdout",
     "output_type": "stream",
     "text": [
      "ImmutableMultiDict([('file', <FileStorage: 'LYDEC2.pdf' ('application/pdf')>)])\n"
     ]
    },
    {
     "name": "stderr",
     "output_type": "stream",
     "text": [
      "192.168.11.106 - - [14/Jun/2023 12:21:31] \"POST /upload HTTP/1.1\" 200 -\n"
     ]
    },
    {
     "name": "stdout",
     "output_type": "stream",
     "text": [
      "ImmutableMultiDict([('file', <FileStorage: 'LYDEC2.pdf' ('application/pdf')>)])\n"
     ]
    },
    {
     "name": "stderr",
     "output_type": "stream",
     "text": [
      "192.168.11.106 - - [14/Jun/2023 12:22:13] \"POST /upload HTTP/1.1\" 200 -\n"
     ]
    },
    {
     "name": "stdout",
     "output_type": "stream",
     "text": [
      "ImmutableMultiDict([('file', <FileStorage: 'AMENDIS3.pdf' ('application/pdf')>)])\n"
     ]
    },
    {
     "name": "stderr",
     "output_type": "stream",
     "text": [
      "192.168.11.106 - - [14/Jun/2023 12:24:08] \"POST /upload HTTP/1.1\" 200 -\n"
     ]
    },
    {
     "name": "stdout",
     "output_type": "stream",
     "text": [
      "ImmutableMultiDict([('file', <FileStorage: 'RADEEJ1.pdf' ('application/pdf')>)])\n"
     ]
    },
    {
     "name": "stderr",
     "output_type": "stream",
     "text": [
      "192.168.11.106 - - [14/Jun/2023 12:25:55] \"POST /upload HTTP/1.1\" 200 -\n"
     ]
    },
    {
     "name": "stdout",
     "output_type": "stream",
     "text": [
      "ImmutableMultiDict([('file', <FileStorage: 'LYDEC4.pdf' ('application/pdf')>)])\n"
     ]
    },
    {
     "name": "stderr",
     "output_type": "stream",
     "text": [
      "192.168.11.106 - - [14/Jun/2023 12:28:39] \"POST /upload HTTP/1.1\" 200 -\n"
     ]
    },
    {
     "name": "stdout",
     "output_type": "stream",
     "text": [
      "ImmutableMultiDict([('file', <FileStorage: 'REDAL3.pdf' ('application/pdf')>)])\n"
     ]
    },
    {
     "name": "stderr",
     "output_type": "stream",
     "text": [
      "192.168.11.106 - - [14/Jun/2023 12:41:35] \"POST /upload HTTP/1.1\" 200 -\n"
     ]
    },
    {
     "name": "stdout",
     "output_type": "stream",
     "text": [
      "ImmutableMultiDict([('file', <FileStorage: 'REDAL3.pdf' ('application/pdf')>)])\n"
     ]
    },
    {
     "name": "stderr",
     "output_type": "stream",
     "text": [
      "192.168.11.106 - - [14/Jun/2023 12:45:31] \"POST /upload HTTP/1.1\" 200 -\n"
     ]
    },
    {
     "name": "stdout",
     "output_type": "stream",
     "text": [
      "ImmutableMultiDict([('file', <FileStorage: 'LYDEC2.pdf' ('application/pdf')>)])\n"
     ]
    },
    {
     "name": "stderr",
     "output_type": "stream",
     "text": [
      "192.168.11.106 - - [14/Jun/2023 12:45:55] \"POST /upload HTTP/1.1\" 200 -\n"
     ]
    },
    {
     "name": "stdout",
     "output_type": "stream",
     "text": [
      "ImmutableMultiDict([('file', <FileStorage: 'LYDEC4.pdf' ('application/pdf')>)])\n"
     ]
    },
    {
     "name": "stderr",
     "output_type": "stream",
     "text": [
      "192.168.11.106 - - [14/Jun/2023 12:46:54] \"POST /upload HTTP/1.1\" 200 -\n"
     ]
    },
    {
     "name": "stdout",
     "output_type": "stream",
     "text": [
      "ImmutableMultiDict([('file', <FileStorage: 'LYDEC4.pdf' ('application/pdf')>)])\n"
     ]
    },
    {
     "name": "stderr",
     "output_type": "stream",
     "text": [
      "192.168.11.106 - - [14/Jun/2023 12:49:32] \"POST /upload HTTP/1.1\" 200 -\n"
     ]
    },
    {
     "name": "stdout",
     "output_type": "stream",
     "text": [
      "ImmutableMultiDict([('file', <FileStorage: 'LYDEC2.pdf' ('application/pdf')>)])\n"
     ]
    },
    {
     "name": "stderr",
     "output_type": "stream",
     "text": [
      "192.168.11.106 - - [14/Jun/2023 12:49:57] \"POST /upload HTTP/1.1\" 200 -\n"
     ]
    },
    {
     "name": "stdout",
     "output_type": "stream",
     "text": [
      "ImmutableMultiDict([('file', <FileStorage: 'REDAL3.pdf' ('application/pdf')>)])\n"
     ]
    },
    {
     "name": "stderr",
     "output_type": "stream",
     "text": [
      "192.168.11.106 - - [14/Jun/2023 12:50:30] \"POST /upload HTTP/1.1\" 200 -\n"
     ]
    },
    {
     "name": "stdout",
     "output_type": "stream",
     "text": [
      "ImmutableMultiDict([('file', <FileStorage: 'REDAL3.pdf' ('application/pdf')>)])\n"
     ]
    },
    {
     "name": "stderr",
     "output_type": "stream",
     "text": [
      "192.168.11.106 - - [14/Jun/2023 12:55:26] \"POST /upload HTTP/1.1\" 200 -\n"
     ]
    },
    {
     "name": "stdout",
     "output_type": "stream",
     "text": [
      "ImmutableMultiDict([('file', <FileStorage: 'REDAL3.pdf' ('application/pdf')>)])\n"
     ]
    },
    {
     "name": "stderr",
     "output_type": "stream",
     "text": [
      "192.168.11.106 - - [14/Jun/2023 12:56:51] \"POST /upload HTTP/1.1\" 200 -\n"
     ]
    },
    {
     "name": "stdout",
     "output_type": "stream",
     "text": [
      "ImmutableMultiDict([('file', <FileStorage: 'RAK4.pdf' ('application/pdf')>)])\n"
     ]
    },
    {
     "name": "stderr",
     "output_type": "stream",
     "text": [
      "192.168.11.106 - - [14/Jun/2023 12:57:06] \"POST /upload HTTP/1.1\" 200 -\n"
     ]
    },
    {
     "name": "stdout",
     "output_type": "stream",
     "text": [
      "ImmutableMultiDict([('file', <FileStorage: 'LYDEC2.pdf' ('application/pdf')>)])\n"
     ]
    },
    {
     "name": "stderr",
     "output_type": "stream",
     "text": [
      "192.168.11.106 - - [14/Jun/2023 12:57:23] \"POST /upload HTTP/1.1\" 200 -\n"
     ]
    },
    {
     "name": "stdout",
     "output_type": "stream",
     "text": [
      "ImmutableMultiDict([('file', <FileStorage: 'LYDEC2.pdf' ('application/pdf')>)])\n"
     ]
    },
    {
     "name": "stderr",
     "output_type": "stream",
     "text": [
      "192.168.11.106 - - [14/Jun/2023 12:57:50] \"POST /upload HTTP/1.1\" 200 -\n"
     ]
    },
    {
     "name": "stdout",
     "output_type": "stream",
     "text": [
      "ImmutableMultiDict([('file', <FileStorage: 'REDAL3.pdf' ('application/pdf')>)])\n"
     ]
    },
    {
     "name": "stderr",
     "output_type": "stream",
     "text": [
      "192.168.11.106 - - [14/Jun/2023 12:58:04] \"POST /upload HTTP/1.1\" 200 -\n"
     ]
    },
    {
     "name": "stdout",
     "output_type": "stream",
     "text": [
      "ImmutableMultiDict([('file', <FileStorage: 'LYDEC4.pdf' ('application/pdf')>)])\n"
     ]
    },
    {
     "name": "stderr",
     "output_type": "stream",
     "text": [
      "192.168.11.106 - - [14/Jun/2023 12:59:14] \"POST /upload HTTP/1.1\" 200 -\n"
     ]
    },
    {
     "name": "stdout",
     "output_type": "stream",
     "text": [
      "ImmutableMultiDict([('file', <FileStorage: 'LYDEC4.pdf' ('application/pdf')>)])\n"
     ]
    },
    {
     "name": "stderr",
     "output_type": "stream",
     "text": [
      "192.168.11.106 - - [14/Jun/2023 12:59:33] \"POST /upload HTTP/1.1\" 200 -\n"
     ]
    },
    {
     "name": "stdout",
     "output_type": "stream",
     "text": [
      "ImmutableMultiDict([('file', <FileStorage: 'LYDEC4.pdf' ('application/pdf')>)])\n"
     ]
    },
    {
     "name": "stderr",
     "output_type": "stream",
     "text": [
      "192.168.11.106 - - [14/Jun/2023 13:00:04] \"POST /upload HTTP/1.1\" 200 -\n"
     ]
    },
    {
     "name": "stdout",
     "output_type": "stream",
     "text": [
      "ImmutableMultiDict([('file', <FileStorage: 'LYDEC4.pdf' ('application/pdf')>)])\n"
     ]
    },
    {
     "name": "stderr",
     "output_type": "stream",
     "text": [
      "192.168.11.106 - - [14/Jun/2023 13:00:27] \"POST /upload HTTP/1.1\" 200 -\n"
     ]
    },
    {
     "name": "stdout",
     "output_type": "stream",
     "text": [
      "ImmutableMultiDict([('file', <FileStorage: 'LYDEC4.pdf' ('application/pdf')>)])\n"
     ]
    },
    {
     "name": "stderr",
     "output_type": "stream",
     "text": [
      "192.168.11.106 - - [14/Jun/2023 13:01:01] \"POST /upload HTTP/1.1\" 200 -\n"
     ]
    },
    {
     "name": "stdout",
     "output_type": "stream",
     "text": [
      "ImmutableMultiDict([('file', <FileStorage: 'LYDEC4.pdf' ('application/pdf')>)])\n"
     ]
    },
    {
     "name": "stderr",
     "output_type": "stream",
     "text": [
      "192.168.11.106 - - [14/Jun/2023 13:01:26] \"POST /upload HTTP/1.1\" 200 -\n"
     ]
    },
    {
     "name": "stdout",
     "output_type": "stream",
     "text": [
      "ImmutableMultiDict([('file', <FileStorage: 'REDAL3.pdf' ('application/pdf')>)])\n"
     ]
    },
    {
     "name": "stderr",
     "output_type": "stream",
     "text": [
      "192.168.11.106 - - [14/Jun/2023 13:02:07] \"POST /upload HTTP/1.1\" 200 -\n"
     ]
    },
    {
     "name": "stdout",
     "output_type": "stream",
     "text": [
      "ImmutableMultiDict([('file', <FileStorage: 'REDAL3.pdf' ('application/pdf')>)])\n"
     ]
    },
    {
     "name": "stderr",
     "output_type": "stream",
     "text": [
      "192.168.11.106 - - [14/Jun/2023 13:03:12] \"POST /upload HTTP/1.1\" 200 -\n"
     ]
    },
    {
     "name": "stdout",
     "output_type": "stream",
     "text": [
      "ImmutableMultiDict([('file', <FileStorage: 'REDAL3.pdf' ('application/pdf')>)])\n"
     ]
    },
    {
     "name": "stderr",
     "output_type": "stream",
     "text": [
      "192.168.11.106 - - [14/Jun/2023 13:03:42] \"POST /upload HTTP/1.1\" 200 -\n"
     ]
    },
    {
     "name": "stdout",
     "output_type": "stream",
     "text": [
      "ImmutableMultiDict([('file', <FileStorage: 'REDAL3.pdf' ('application/pdf')>)])\n"
     ]
    },
    {
     "name": "stderr",
     "output_type": "stream",
     "text": [
      "192.168.11.106 - - [14/Jun/2023 13:04:07] \"POST /upload HTTP/1.1\" 200 -\n"
     ]
    },
    {
     "name": "stdout",
     "output_type": "stream",
     "text": [
      "ImmutableMultiDict([('file', <FileStorage: 'REDAL3.pdf' ('application/pdf')>)])\n"
     ]
    },
    {
     "name": "stderr",
     "output_type": "stream",
     "text": [
      "192.168.11.106 - - [14/Jun/2023 13:04:48] \"POST /upload HTTP/1.1\" 200 -\n"
     ]
    },
    {
     "name": "stdout",
     "output_type": "stream",
     "text": [
      "ImmutableMultiDict([('file', <FileStorage: 'REDAL3.pdf' ('application/pdf')>)])\n"
     ]
    },
    {
     "name": "stderr",
     "output_type": "stream",
     "text": [
      "192.168.11.106 - - [14/Jun/2023 13:06:18] \"POST /upload HTTP/1.1\" 200 -\n"
     ]
    },
    {
     "name": "stdout",
     "output_type": "stream",
     "text": [
      "ImmutableMultiDict([('file', <FileStorage: 'REDAL3.pdf' ('application/pdf')>)])\n"
     ]
    },
    {
     "name": "stderr",
     "output_type": "stream",
     "text": [
      "192.168.11.106 - - [14/Jun/2023 13:06:41] \"POST /upload HTTP/1.1\" 200 -\n"
     ]
    },
    {
     "name": "stdout",
     "output_type": "stream",
     "text": [
      "ImmutableMultiDict([('file', <FileStorage: 'RAK4.pdf' ('application/pdf')>)])\n"
     ]
    },
    {
     "name": "stderr",
     "output_type": "stream",
     "text": [
      "192.168.11.106 - - [14/Jun/2023 13:06:56] \"POST /upload HTTP/1.1\" 200 -\n"
     ]
    },
    {
     "name": "stdout",
     "output_type": "stream",
     "text": [
      "ImmutableMultiDict([('file', <FileStorage: 'LYDEC2.pdf' ('application/pdf')>)])\n"
     ]
    },
    {
     "name": "stderr",
     "output_type": "stream",
     "text": [
      "192.168.11.106 - - [14/Jun/2023 13:07:16] \"POST /upload HTTP/1.1\" 200 -\n"
     ]
    },
    {
     "name": "stdout",
     "output_type": "stream",
     "text": [
      "ImmutableMultiDict([('file', <FileStorage: 'REDAL3.pdf' ('application/pdf')>)])\n"
     ]
    },
    {
     "name": "stderr",
     "output_type": "stream",
     "text": [
      "192.168.11.106 - - [14/Jun/2023 13:19:56] \"POST /upload HTTP/1.1\" 200 -\n"
     ]
    },
    {
     "name": "stdout",
     "output_type": "stream",
     "text": [
      "ImmutableMultiDict([('file', <FileStorage: 'RAK4.pdf' ('application/pdf')>)])\n"
     ]
    },
    {
     "name": "stderr",
     "output_type": "stream",
     "text": [
      "192.168.11.106 - - [14/Jun/2023 13:21:19] \"POST /upload HTTP/1.1\" 200 -\n"
     ]
    },
    {
     "name": "stdout",
     "output_type": "stream",
     "text": [
      "ImmutableMultiDict([('file', <FileStorage: 'LYDEC4.pdf' ('application/pdf')>)])\n"
     ]
    },
    {
     "name": "stderr",
     "output_type": "stream",
     "text": [
      "192.168.11.106 - - [14/Jun/2023 13:50:06] \"POST /upload HTTP/1.1\" 200 -\n"
     ]
    },
    {
     "name": "stdout",
     "output_type": "stream",
     "text": [
      "ImmutableMultiDict([('file', <FileStorage: 'REDAL3.pdf' ('application/pdf')>)])\n"
     ]
    },
    {
     "name": "stderr",
     "output_type": "stream",
     "text": [
      "192.168.11.106 - - [14/Jun/2023 14:40:11] \"POST /upload HTTP/1.1\" 200 -\n"
     ]
    },
    {
     "name": "stdout",
     "output_type": "stream",
     "text": [
      "ImmutableMultiDict([('file', <FileStorage: 'REDAL3.pdf' ('application/pdf')>)])\n"
     ]
    },
    {
     "name": "stderr",
     "output_type": "stream",
     "text": [
      "192.168.11.106 - - [14/Jun/2023 14:52:07] \"POST /upload HTTP/1.1\" 200 -\n"
     ]
    },
    {
     "name": "stdout",
     "output_type": "stream",
     "text": [
      "ImmutableMultiDict([('file', <FileStorage: 'REDAL3.pdf' ('application/pdf')>)])\n"
     ]
    },
    {
     "name": "stderr",
     "output_type": "stream",
     "text": [
      "192.168.11.106 - - [14/Jun/2023 14:52:54] \"POST /upload HTTP/1.1\" 200 -\n"
     ]
    },
    {
     "name": "stdout",
     "output_type": "stream",
     "text": [
      "ImmutableMultiDict([('file', <FileStorage: 'RAK3.pdf' ('application/pdf')>)])\n"
     ]
    },
    {
     "name": "stderr",
     "output_type": "stream",
     "text": [
      "192.168.11.106 - - [14/Jun/2023 14:54:06] \"POST /upload HTTP/1.1\" 200 -\n"
     ]
    },
    {
     "name": "stdout",
     "output_type": "stream",
     "text": [
      "ImmutableMultiDict([('file', <FileStorage: 'RAK3.pdf' ('application/pdf')>)])\n"
     ]
    },
    {
     "name": "stderr",
     "output_type": "stream",
     "text": [
      "192.168.11.106 - - [14/Jun/2023 14:55:14] \"POST /upload HTTP/1.1\" 200 -\n"
     ]
    },
    {
     "name": "stdout",
     "output_type": "stream",
     "text": [
      "ImmutableMultiDict([('file', <FileStorage: 'RAK3.pdf' ('application/pdf')>)])\n"
     ]
    },
    {
     "name": "stderr",
     "output_type": "stream",
     "text": [
      "192.168.11.106 - - [14/Jun/2023 14:57:32] \"POST /upload HTTP/1.1\" 200 -\n"
     ]
    },
    {
     "name": "stdout",
     "output_type": "stream",
     "text": [
      "ImmutableMultiDict([('file', <FileStorage: 'RAK3.pdf' ('application/pdf')>)])\n"
     ]
    },
    {
     "name": "stderr",
     "output_type": "stream",
     "text": [
      "192.168.11.106 - - [14/Jun/2023 15:05:07] \"POST /upload HTTP/1.1\" 200 -\n"
     ]
    },
    {
     "name": "stdout",
     "output_type": "stream",
     "text": [
      "ImmutableMultiDict([('file', <FileStorage: 'RAK3.pdf' ('application/pdf')>)])\n"
     ]
    },
    {
     "name": "stderr",
     "output_type": "stream",
     "text": [
      "192.168.11.106 - - [14/Jun/2023 15:17:49] \"POST /upload HTTP/1.1\" 200 -\n"
     ]
    },
    {
     "name": "stdout",
     "output_type": "stream",
     "text": [
      "ImmutableMultiDict([('file', <FileStorage: 'RAK3.pdf' ('application/pdf')>)])\n"
     ]
    },
    {
     "name": "stderr",
     "output_type": "stream",
     "text": [
      "192.168.11.106 - - [14/Jun/2023 15:21:53] \"POST /upload HTTP/1.1\" 200 -\n"
     ]
    },
    {
     "name": "stdout",
     "output_type": "stream",
     "text": [
      "ImmutableMultiDict([('file', <FileStorage: 'REDAL1.pdf' ('application/pdf')>)])\n"
     ]
    },
    {
     "name": "stderr",
     "output_type": "stream",
     "text": [
      "192.168.11.106 - - [14/Jun/2023 19:39:23] \"POST /upload HTTP/1.1\" 200 -\n"
     ]
    },
    {
     "name": "stdout",
     "output_type": "stream",
     "text": [
      "ImmutableMultiDict([('file', <FileStorage: 'REDAL1.pdf' ('application/pdf')>)])\n"
     ]
    },
    {
     "name": "stderr",
     "output_type": "stream",
     "text": [
      "192.168.11.106 - - [14/Jun/2023 19:41:05] \"POST /upload HTTP/1.1\" 200 -\n"
     ]
    },
    {
     "name": "stdout",
     "output_type": "stream",
     "text": [
      "ImmutableMultiDict([('file', <FileStorage: 'REDAL1.pdf' ('application/pdf')>)])\n"
     ]
    },
    {
     "name": "stderr",
     "output_type": "stream",
     "text": [
      "192.168.11.106 - - [14/Jun/2023 19:43:46] \"POST /upload HTTP/1.1\" 200 -\n"
     ]
    },
    {
     "name": "stdout",
     "output_type": "stream",
     "text": [
      "ImmutableMultiDict([('file', <FileStorage: 'RAK1.pdf' ('application/pdf')>)])\n"
     ]
    },
    {
     "name": "stderr",
     "output_type": "stream",
     "text": [
      "192.168.11.106 - - [14/Jun/2023 20:21:41] \"POST /upload HTTP/1.1\" 200 -\n"
     ]
    },
    {
     "name": "stdout",
     "output_type": "stream",
     "text": [
      "ImmutableMultiDict([('file', <FileStorage: 'RAK1.pdf' ('application/pdf')>)])\n"
     ]
    },
    {
     "name": "stderr",
     "output_type": "stream",
     "text": [
      "192.168.11.106 - - [14/Jun/2023 20:23:28] \"POST /upload HTTP/1.1\" 200 -\n"
     ]
    }
   ],
   "source": [
    "\n",
    "\n",
    "app = Flask(__name__)\n",
    "\n",
    "ip_address = '192.168.11.108'\n",
    "port = 5000\n",
    "\n",
    "@app.route('/upload', methods=['GET','POST'])\n",
    "def upload_file():\n",
    "    print(request.files)\n",
    "    if 'file' not in request.files:\n",
    "        return {'success': False, 'message': 'No file part in the request'}\n",
    "\n",
    "    file = request.files['file']\n",
    "    selected_value = request.form['selectedValue']\n",
    "    filename = file.filename\n",
    "    if file.filename == '':\n",
    "        return {'success': False, 'message': 'No file selected'}\n",
    "\n",
    "    # Access other form fields if needed\n",
    "    form_data = request.form\n",
    "    field_value = form_data.get('field_name')\n",
    "   \n",
    "    # Process the file and form data as needed\n",
    "    # For example, save the file to a specific location\n",
    "    file.save(filename)\n",
    "    rep_data=TRAITEMENT_BCS(filename,selected_value)\n",
    "\n",
    "    return {'success': True, 'message': 'File uploaded successfully','data':rep_data}\n",
    "\n",
    "\n",
    "if __name__ == '__main__':\n",
    "    app.run(host=ip_address, port=port)\n"
   ]
  }
 ],
 "metadata": {
  "kernelspec": {
   "display_name": "Python 3 (ipykernel)",
   "language": "python",
   "name": "python3"
  },
  "language_info": {
   "codemirror_mode": {
    "name": "ipython",
    "version": 3
   },
   "file_extension": ".py",
   "mimetype": "text/x-python",
   "name": "python",
   "nbconvert_exporter": "python",
   "pygments_lexer": "ipython3",
   "version": "3.9.12"
  }
 },
 "nbformat": 4,
 "nbformat_minor": 5
}
